{
  "nbformat": 4,
  "nbformat_minor": 0,
  "metadata": {
    "colab": {
      "name": "q1.ipynb",
      "provenance": [],
      "collapsed_sections": []
    },
    "kernelspec": {
      "name": "python3",
      "display_name": "Python 3"
    },
    "language_info": {
      "name": "python"
    }
  },
  "cells": [
    {
      "cell_type": "code",
      "execution_count": 5,
      "metadata": {
        "id": "r_ljrPiSpHQ_",
        "colab": {
          "base_uri": "https://localhost:8080/"
        },
        "outputId": "5490d7ea-bd44-401d-ef2f-5a3d95fde3b0"
      },
      "outputs": [
        {
          "output_type": "stream",
          "name": "stdout",
          "text": [
            "[1, 3, 4, 5, 6, 7, 9, 10, 11, 22]\n"
          ]
        }
      ],
      "source": [
        "\n",
        "A=[3,1,22,5,6,4,10,9,7,11]\n",
        "\n",
        "def bubbleSort(A):\n",
        "  for i in range (0,len(A)):\n",
        "    for j in range(0,len(A)-1):\n",
        "      if A[j]>A[j+1]:\n",
        "        temp=A[j]\n",
        "        A[j]=A[j+1]\n",
        "        A[j+1]=temp\n",
        "\n",
        "\n",
        "bubbleSort(A)\n",
        "\n",
        "print(A)\n",
        "\n",
        "\n",
        "\n"
      ]
    },
    {
      "cell_type": "code",
      "source": [
        "B=[3,1,22,5,6,4,10,9,7,11]\n",
        "n=len(B)\n",
        "def partition(B, low, high):\n",
        "  i = (low-1)\n",
        "  pivot = B[high]\n",
        "\n",
        "  for j in range(low, high):\n",
        "     if B[j] <= pivot:\n",
        "       i = i+1\n",
        "       B[i], B[j] = B[j], B[i]\n",
        "  B[i+1], B[high] = B[high], B[i+1]\n",
        "    \n",
        "  return (i+1)\n",
        "\n",
        "def quickSort(B, low, high):\n",
        "    if len(B) == 1:\n",
        "        return B\n",
        "    if low < high:\n",
        "       pi = partition(B, low, high)\n",
        "\n",
        "       quickSort(B, low, pi-1)\n",
        "       quickSort(B, pi+1, high)\n",
        "\n",
        "quickSort(B, 0, n-1)\n",
        "print(B)"
      ],
      "metadata": {
        "colab": {
          "base_uri": "https://localhost:8080/"
        },
        "id": "p6LfBbzty3FR",
        "outputId": "6bf2e8f5-1211-4365-acc7-a55ca85b6d77"
      },
      "execution_count": 7,
      "outputs": [
        {
          "output_type": "stream",
          "name": "stdout",
          "text": [
            "[1, 3, 4, 5, 6, 7, 9, 10, 11, 22]\n"
          ]
        }
      ]
    }
  ]
}